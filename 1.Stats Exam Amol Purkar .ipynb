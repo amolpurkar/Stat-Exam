{
 "cells": [
  {
   "cell_type": "code",
   "execution_count": 64,
   "id": "1bf720e9",
   "metadata": {},
   "outputs": [],
   "source": [
    "from scipy import stats\n",
    "import numpy as np\n",
    "import pandas as pd\n"
   ]
  },
  {
   "cell_type": "code",
   "execution_count": null,
   "id": "94c95992",
   "metadata": {},
   "outputs": [],
   "source": []
  },
  {
   "cell_type": "code",
   "execution_count": 65,
   "id": "00591273",
   "metadata": {},
   "outputs": [],
   "source": [
    "# Q.1\tThe experiment shows that the average monthly electricity consumption for a house is 458 units. \n",
    "#The study records a total of 3206 units of electricity consumption. \n",
    "#Calculate the duration of the experiment. Also, identify the criteria to calculate the median consumption."
   ]
  },
  {
   "cell_type": "code",
   "execution_count": 66,
   "id": "fd53365d",
   "metadata": {},
   "outputs": [
    {
     "data": {
      "text/plain": [
       "7.0"
      ]
     },
     "execution_count": 66,
     "metadata": {},
     "output_type": "execute_result"
    }
   ],
   "source": [
    "avg_month = 458\n",
    "duration = \"A\"\n",
    "t_cons = 458 *\"A\"\n",
    "t_Cons = 3206 \n",
    "A = 3206/458\n",
    "A"
   ]
  },
  {
   "cell_type": "code",
   "execution_count": null,
   "id": "746e6e51",
   "metadata": {},
   "outputs": [],
   "source": []
  },
  {
   "cell_type": "code",
   "execution_count": null,
   "id": "7f7f5c3b",
   "metadata": {},
   "outputs": [],
   "source": []
  },
  {
   "cell_type": "code",
   "execution_count": 67,
   "id": "fbc655fe",
   "metadata": {},
   "outputs": [],
   "source": [
    "#Q.2\tFind the wage above which 65% of wages would lie.\n",
    "#Consider the wages (in dollars) of 15 workers as given below:\n",
    "wage = [247, 228, 352, 298, 345, 312, 300, 285, 246, 352, 297, 304, 265, 325, 276]\n"
   ]
  },
  {
   "cell_type": "code",
   "execution_count": 68,
   "id": "f1623a66",
   "metadata": {},
   "outputs": [
    {
     "data": {
      "text/plain": [
       "281.09821395106604"
      ]
     },
     "execution_count": 68,
     "metadata": {},
     "output_type": "execute_result"
    }
   ],
   "source": [
    "wage = [247, 228, 352, 298, 345, 312, 300,285, 246, 352, 297, 304, 265, 325, 276]\n",
    "mean=np.mean(wage)\n",
    "std=np.std(wage)\n",
    "stats.norm.ppf(0.35,mean,std)"
   ]
  },
  {
   "cell_type": "code",
   "execution_count": null,
   "id": "fc596550",
   "metadata": {},
   "outputs": [],
   "source": []
  },
  {
   "cell_type": "code",
   "execution_count": null,
   "id": "9383a9a8",
   "metadata": {},
   "outputs": [],
   "source": []
  },
  {
   "cell_type": "code",
   "execution_count": 69,
   "id": "ba9f08b7",
   "metadata": {},
   "outputs": [],
   "source": [
    "#Q.3\tJimmy requires 38 minutes on average, with a standard deviation of 5 minutes to distribute the newspapers.\n",
    "#On the other hand, Richard requires 27 minutes on average, with a standard deviation of 6 minutes to distribute the newspapers.\n",
    "#Identify most consistent distributor."
   ]
  },
  {
   "cell_type": "code",
   "execution_count": 70,
   "id": "11965023",
   "metadata": {
    "scrolled": true
   },
   "outputs": [
    {
     "name": "stdout",
     "output_type": "stream",
     "text": [
      "coefficient of variation of jimmy is: 0.13157894736842105\n",
      "coefficient of variation of jimmy is: 0.2222222222222222\n",
      "Jimmy is more consistent\n"
     ]
    }
   ],
   "source": [
    "Jimmy_mean=38\n",
    "Jimmy_std=5\n",
    " \n",
    "coeff_of_var_jimmy=Jimmy_std/Jimmy_mean\n",
    "print(\"coefficient of variation of jimmy is:\",coeff_of_var_jimmy)\n",
    "Richard_mean=27\n",
    "Richard_std=6\n",
    "coeff_of_var_richard=Richard_std/Richard_mean\n",
    "print(\"coefficient of variation of jimmy is:\",coeff_of_var_richard)\n",
    "if coeff_of_var_jimmy > coeff_of_var_richard:\n",
    "  print(\"Richard is more consistent\")\n",
    "else:\n",
    "  print(\"Jimmy is more consistent\")"
   ]
  },
  {
   "cell_type": "code",
   "execution_count": null,
   "id": "de0c9ee7",
   "metadata": {},
   "outputs": [],
   "source": []
  },
  {
   "cell_type": "code",
   "execution_count": null,
   "id": "b64cf02d",
   "metadata": {},
   "outputs": [],
   "source": []
  },
  {
   "cell_type": "code",
   "execution_count": 71,
   "id": "985e7ede",
   "metadata": {},
   "outputs": [
    {
     "name": "stdout",
     "output_type": "stream",
     "text": [
      "19.4\n"
     ]
    }
   ],
   "source": [
    "#Q.4\tIdentify the extreme weights from the given list of weights using the interquartile range. \n",
    "#Consider the weights (in kg) of 10 students as given below:\n",
    "#weight = [14.7, 15.2, 39.8, 44.5, 21.2, 28.5, 35.2, 19.7, 40.4, 16.5]\n",
    "\n",
    "\n",
    "from scipy import stats\n",
    "\n",
    "weight = [14.7, 15.2, 39.8, 44.5, 21.2, 28.5, 35.2, 19.7, 40.4, 16.5]\n",
    "\n",
    "\n",
    "IQR = stats.iqr(weight, interpolation = 'midpoint')\n",
    "\n",
    "print(IQR)\n"
   ]
  },
  {
   "cell_type": "code",
   "execution_count": null,
   "id": "c9da6efb",
   "metadata": {},
   "outputs": [],
   "source": []
  },
  {
   "cell_type": "code",
   "execution_count": null,
   "id": "0ba104d2",
   "metadata": {},
   "outputs": [],
   "source": []
  },
  {
   "cell_type": "code",
   "execution_count": 72,
   "id": "9ff5e4d2",
   "metadata": {},
   "outputs": [],
   "source": [
    "#Q.5\tA car showroom in Ohio exhibits a total of 12 cars of different brands. \n",
    "#Identify the type of skewness in the showroom prices of cars.\n",
    "#Consider the prices (in dollars) for 12 cars as given below:\n",
    "#price = [14751, 16422, 15398, 9445, 12589, 11687, 10692, 8475, 11184, 9961, 12898, 11905]\n"
   ]
  },
  {
   "cell_type": "code",
   "execution_count": 73,
   "id": "21c0c9e0",
   "metadata": {},
   "outputs": [
    {
     "name": "stdout",
     "output_type": "stream",
     "text": [
      "mean value is: 12117.25\n",
      "median value is: 11796.0\n",
      "since mean is greater than median,data is righty skewed(positively skewed)\n"
     ]
    }
   ],
   "source": [
    "price = [14751, 16422, 15398, 9445, 12589,11687, 10692, 8475, 11184, 9961, 12898, 11905]\n",
    "mean=np.mean(price)\n",
    "median=np.median(price)\n",
    "print(\"mean value is:\",mean)\n",
    "print(\"median value is:\",median)\n",
    "if mean > median:\n",
    "  print(\"since mean is greater than median,data is righty skewed(positively skewed)\")\n",
    "else:\n",
    "  print(\"since median is greater than mean,data is left skewed(negatively skewed)\")"
   ]
  },
  {
   "cell_type": "code",
   "execution_count": null,
   "id": "5c8a4070",
   "metadata": {},
   "outputs": [],
   "source": []
  },
  {
   "cell_type": "code",
   "execution_count": null,
   "id": "c26ab2a9",
   "metadata": {},
   "outputs": [],
   "source": []
  },
  {
   "cell_type": "code",
   "execution_count": 74,
   "id": "3280f664",
   "metadata": {},
   "outputs": [],
   "source": [
    "\n",
    "#Q.6\t\n",
    "#A company offers its customers to take a vehicle and an educational loan.\n",
    "#A study shows that the probability that a customer takes a vehicle loan is 0.35, the probability that a customer\n",
    "#takes an educational loan is 0.46 and the probability that a customer takes at least one of the loan is 0.59.\n",
    "#Find the probability that a customer takes both vehicle and educational loans. \n"
   ]
  },
  {
   "cell_type": "code",
   "execution_count": 75,
   "id": "683b8156",
   "metadata": {},
   "outputs": [
    {
     "name": "stdout",
     "output_type": "stream",
     "text": [
      "probability that a customer takes both vehicle and educational loans is: 0.161\n"
     ]
    }
   ],
   "source": [
    "Probability_veh=0.35\n",
    "Probability_edu=0.46\n",
    "Probability_both=Probability_veh*Probability_edu\n",
    "print(\"probability that a customer takes both vehicle and educational loans is:\",Probability_both)"
   ]
  },
  {
   "cell_type": "code",
   "execution_count": null,
   "id": "4821b6c9",
   "metadata": {},
   "outputs": [],
   "source": []
  },
  {
   "cell_type": "code",
   "execution_count": null,
   "id": "a4f8f602",
   "metadata": {},
   "outputs": [],
   "source": []
  },
  {
   "cell_type": "code",
   "execution_count": 76,
   "id": "5243dfc5",
   "metadata": {},
   "outputs": [],
   "source": [
    "# Q.7\tConsider two independent events X and Y. \n",
    "#If the probability of occurrence of event X is 0.4 \n",
    "#and the probability of occurrence of at least one event is 0.6. \n",
    "#Find the probability of occurrence of event Y. "
   ]
  },
  {
   "cell_type": "code",
   "execution_count": 77,
   "id": "e0d201e6",
   "metadata": {},
   "outputs": [
    {
     "name": "stdout",
     "output_type": "stream",
     "text": [
      "the probability of occurrence of event Y is  0.33333333333333337\n"
     ]
    }
   ],
   "source": [
    "X=0.4\n",
    "X_intersectoion_Y=0.6\n",
    "\n",
    "Y= 0.2/X_intersectoion_Y\n",
    "print(\"the probability of occurrence of event Y is \" ,Y)"
   ]
  },
  {
   "cell_type": "code",
   "execution_count": null,
   "id": "ca0d76c0",
   "metadata": {},
   "outputs": [],
   "source": []
  },
  {
   "cell_type": "code",
   "execution_count": null,
   "id": "e35e5c08",
   "metadata": {},
   "outputs": [],
   "source": []
  },
  {
   "cell_type": "code",
   "execution_count": 78,
   "id": "f09d3016",
   "metadata": {},
   "outputs": [],
   "source": [
    "#Q.8\tConsider a vending machine containing 6 boxes each of four different juice flavors (Mango, Apple, Guava and Kiwi).\n",
    "#Find the probability that the juice box picked is either of Mango or Guava flavor. "
   ]
  },
  {
   "cell_type": "code",
   "execution_count": 79,
   "id": "0cdf3284",
   "metadata": {},
   "outputs": [
    {
     "name": "stdout",
     "output_type": "stream",
     "text": [
      "the probability that the juice box picked is either of Mango or Guava flavor is  0.5\n"
     ]
    }
   ],
   "source": [
    "mango=6\n",
    "apple=6\n",
    "guava=6\n",
    "kiwi=6\n",
    "tot_juice=mango+apple+guava+kiwi\n",
    "\n",
    "prob_mango= mango/tot_juice\n",
    "\n",
    "prob_guava=guava/tot_juice\n",
    "\n",
    "prob= prob_guava+prob_mango\n",
    "print(\"the probability that the juice box picked is either of Mango or Guava flavor is \",prob)"
   ]
  },
  {
   "cell_type": "code",
   "execution_count": null,
   "id": "487285ec",
   "metadata": {},
   "outputs": [],
   "source": []
  },
  {
   "cell_type": "code",
   "execution_count": null,
   "id": "191d0268",
   "metadata": {},
   "outputs": [],
   "source": []
  },
  {
   "cell_type": "code",
   "execution_count": 80,
   "id": "f8a0b68b",
   "metadata": {},
   "outputs": [],
   "source": [
    "#Q.9\tConsider a student appearing for 3 different exams either pass or fail in each exam. \n",
    "#Let a marginal probability of a student passing the Economics, Mathematics and German exam be 0.67. \n",
    "#The probability that the student fails in the Economics exam is 0.10 and the probability that the student fails in the German exam is 0.09. \n",
    "#Find the probability that a student fails in the Mathematics exam.\n",
    "\n",
    "#Consider a discrete variable X denoting the passing or failing of an exam and a discrete variable Y denoting the three subjects of the exam. \n",
    "#The sum of marginal probabilities of X (or Y) should be always equal to 1.\n"
   ]
  },
  {
   "cell_type": "code",
   "execution_count": 94,
   "id": "7e5106be",
   "metadata": {
    "scrolled": true
   },
   "outputs": [
    {
     "name": "stdout",
     "output_type": "stream",
     "text": [
      "prob_of_students_fails_in_maths  0.13999999999999996\n"
     ]
    }
   ],
   "source": [
    "prob_total_passing_student = 0.67 \n",
    "A = 0.10 ### prob_of_students_fails_in_economics\n",
    "M = 0.09 ### prob_of_students_fails_in_maths\n",
    "total_prob = 1\n",
    "\n",
    "prob = total_prob - prob_total_passing_student - A - M\n",
    "\n",
    "print(\"prob_of_students_fails_in_maths \",prob) "
   ]
  },
  {
   "cell_type": "code",
   "execution_count": null,
   "id": "b2f865c9",
   "metadata": {},
   "outputs": [],
   "source": []
  },
  {
   "cell_type": "code",
   "execution_count": null,
   "id": "20bc3b8b",
   "metadata": {},
   "outputs": [],
   "source": []
  },
  {
   "cell_type": "code",
   "execution_count": 81,
   "id": "ecb7b9e0",
   "metadata": {},
   "outputs": [],
   "source": [
    "#Q.10\tThe probabilities that a machine will produce 2, 5, 7, 9 defective batteries in a day are 0.3, 0.22, 0.15, 0.1 respectively. \n",
    "#Find the expected number of defective batteries produced in a day. "
   ]
  },
  {
   "cell_type": "code",
   "execution_count": 82,
   "id": "edc86828",
   "metadata": {},
   "outputs": [
    {
     "name": "stdout",
     "output_type": "stream",
     "text": [
      "0.1643835616438356 0.30136986301369867 0.28767123287671237 0.24657534246575344\n"
     ]
    }
   ],
   "source": [
    "# b is equal to p(b|an)\n",
    "#s(an|b) is probability of occuring deffective model\n",
    "a1=2\n",
    "a2=5\n",
    "a3=7\n",
    "a4=9\n",
    "b1 = 0.3\n",
    "b2=0.22\n",
    "b3=0.15\n",
    "b4=0.1\n",
    "\n",
    "s1=2*0.3/(2*0.3+5*0.22+7*0.15+9*0.1)\n",
    "s2=5*0.22/(2*0.3+5*0.22+7*0.15+9*0.1)\n",
    "s3=7*0.15/(2*0.3+5*0.22+7*0.15+9*0.1)\n",
    "s4=9*0.1/(2*0.3+5*0.22+7*0.15+9*0.1)\n",
    "print(s1, s2, s3, s4)"
   ]
  },
  {
   "cell_type": "code",
   "execution_count": null,
   "id": "81560aa7",
   "metadata": {},
   "outputs": [],
   "source": []
  },
  {
   "cell_type": "code",
   "execution_count": null,
   "id": "1091717e",
   "metadata": {},
   "outputs": [],
   "source": []
  },
  {
   "cell_type": "code",
   "execution_count": 83,
   "id": "26819b6f",
   "metadata": {},
   "outputs": [],
   "source": [
    "#Q.11\tIn a pack of 52 cards, what is the probability of selecting a red card? "
   ]
  },
  {
   "cell_type": "code",
   "execution_count": 84,
   "id": "445b6915",
   "metadata": {},
   "outputs": [
    {
     "data": {
      "text/plain": [
       "0.5"
      ]
     },
     "execution_count": 84,
     "metadata": {},
     "output_type": "execute_result"
    }
   ],
   "source": [
    "number_of_cards = 52\n",
    "number_of_red_cards = 26\n",
    "probability_of_red_card = number_of_red_cards/number_of_cards\n",
    "probability_of_red_card"
   ]
  },
  {
   "cell_type": "code",
   "execution_count": null,
   "id": "a95d4750",
   "metadata": {},
   "outputs": [],
   "source": []
  },
  {
   "cell_type": "code",
   "execution_count": null,
   "id": "0bd57f69",
   "metadata": {},
   "outputs": [],
   "source": []
  },
  {
   "cell_type": "code",
   "execution_count": 85,
   "id": "48217c7a",
   "metadata": {},
   "outputs": [],
   "source": [
    "#Q.12\tFrom the experience, it is seen that 4% of the tyres produced by the machine are defective. \n",
    "#Out of the 10 tyres produced, find the probability that at most 3 are defective. "
   ]
  },
  {
   "cell_type": "code",
   "execution_count": 86,
   "id": "14f3b23a",
   "metadata": {},
   "outputs": [
    {
     "data": {
      "text/plain": [
       "0.9995574006399994"
      ]
     },
     "execution_count": 86,
     "metadata": {},
     "output_type": "execute_result"
    }
   ],
   "source": [
    "from scipy.stats import binom\n",
    "n =10\n",
    "p = 0.04\n",
    "q = 1-p\n",
    "num = [0,1,2,3]\n",
    "dist = binom.pmf(num, n, p).sum() \n",
    "total_prob = dist\n",
    "total_prob"
   ]
  },
  {
   "cell_type": "code",
   "execution_count": null,
   "id": "89db02c0",
   "metadata": {},
   "outputs": [],
   "source": []
  },
  {
   "cell_type": "code",
   "execution_count": null,
   "id": "d4c50c38",
   "metadata": {},
   "outputs": [],
   "source": []
  },
  {
   "cell_type": "code",
   "execution_count": 87,
   "id": "e2707f22",
   "metadata": {},
   "outputs": [],
   "source": [
    "#Q.13\tThe number of trucks crossing a bridge during the day follow a Poisson distribution with mean 18. \n",
    "#What is the probability that on a randomly selected day 12 trucks would have crossed the bridge? "
   ]
  },
  {
   "cell_type": "code",
   "execution_count": 88,
   "id": "260ab505",
   "metadata": {},
   "outputs": [
    {
     "data": {
      "text/plain": [
       "0.03678175293604137"
      ]
     },
     "execution_count": 88,
     "metadata": {},
     "output_type": "execute_result"
    }
   ],
   "source": [
    "a=12\n",
    "b=18\n",
    "stats.poisson.pmf(a,b)"
   ]
  },
  {
   "cell_type": "code",
   "execution_count": null,
   "id": "a790ce4b",
   "metadata": {},
   "outputs": [],
   "source": []
  },
  {
   "cell_type": "code",
   "execution_count": null,
   "id": "42873436",
   "metadata": {},
   "outputs": [],
   "source": []
  },
  {
   "cell_type": "code",
   "execution_count": 89,
   "id": "dc38a6b5",
   "metadata": {},
   "outputs": [],
   "source": [
    "#Q.14\tA random variable follows uniform distribution in the interval 5 to 10. Obtain the mean and variance. "
   ]
  },
  {
   "cell_type": "code",
   "execution_count": 90,
   "id": "eddc27f1",
   "metadata": {},
   "outputs": [
    {
     "name": "stdout",
     "output_type": "stream",
     "text": [
      "mean is 7.5\n",
      "Variance is  2.0833333333333335\n"
     ]
    }
   ],
   "source": [
    "interval=range(5,10)\n",
    "mean = (5+10)/2\n",
    "print(\"mean is\", mean)\n",
    "\n",
    "interval=range(5,10)\n",
    "variance = (10-5)**2/12\n",
    "print(\"Variance is \",variance)"
   ]
  },
  {
   "cell_type": "code",
   "execution_count": null,
   "id": "7c8521a8",
   "metadata": {},
   "outputs": [],
   "source": []
  },
  {
   "cell_type": "code",
   "execution_count": null,
   "id": "e0ab3eff",
   "metadata": {},
   "outputs": [],
   "source": []
  },
  {
   "cell_type": "code",
   "execution_count": 91,
   "id": "4f53285f",
   "metadata": {},
   "outputs": [],
   "source": [
    "#Q.15\tConsider an random variable that follows normal distribution with mean 5 and variance 10 \n",
    "#Obtain:\n",
    "#1. P(X < 1)\n",
    "\n",
    "#2. P(X > 5)\n",
    "\n",
    "#3. P(3 < X < 7)\n"
   ]
  },
  {
   "cell_type": "code",
   "execution_count": 92,
   "id": "f2515d8a",
   "metadata": {},
   "outputs": [
    {
     "name": "stdout",
     "output_type": "stream",
     "text": [
      "0.2118553985833967\n",
      "0.5\n",
      "0.31084348322064836\n"
     ]
    }
   ],
   "source": [
    "m =5\n",
    "var = 10 \n",
    "sd = var**1/2\n",
    "import scipy.stats\n",
    "\n",
    "#1. P(X < 1)\n",
    "print(scipy.stats.norm.cdf(1,m,sd))\n",
    "\n",
    "#2. P(X > 5)\n",
    "print(scipy.stats.norm.sf(5,m,sd))\n",
    "\n",
    "#3. P(3 < X < 7)\n",
    "print(scipy.stats.norm(m , sd).cdf(7) - scipy.stats.norm(m,sd).cdf(3))"
   ]
  }
 ],
 "metadata": {
  "kernelspec": {
   "display_name": "Python 3 (ipykernel)",
   "language": "python",
   "name": "python3"
  },
  "language_info": {
   "codemirror_mode": {
    "name": "ipython",
    "version": 3
   },
   "file_extension": ".py",
   "mimetype": "text/x-python",
   "name": "python",
   "nbconvert_exporter": "python",
   "pygments_lexer": "ipython3",
   "version": "3.9.12"
  }
 },
 "nbformat": 4,
 "nbformat_minor": 5
}
